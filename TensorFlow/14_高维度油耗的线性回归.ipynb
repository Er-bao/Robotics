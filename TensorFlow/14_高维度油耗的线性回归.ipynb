{
 "cells": [
  {
   "cell_type": "code",
   "execution_count": 9,
   "metadata": {},
   "outputs": [
    {
     "data": {
      "text/plain": [
       "array([[ 130.    ,    1.752 ,   12.    ,   18.    ],\n",
       "       [ 165.    ,    1.8465,   11.5   ,   15.    ],\n",
       "       [ 150.    ,    1.718 ,   11.    ,   18.    ],\n",
       "       ..., \n",
       "       [  84.    ,    1.1475,   11.6   ,   32.    ],\n",
       "       [  79.    ,    1.3125,   18.6   ,   28.    ],\n",
       "       [  82.    ,    1.36  ,   19.4   ,   31.    ]])"
      ]
     },
     "execution_count": 9,
     "metadata": {},
     "output_type": "execute_result"
    }
   ],
   "source": [
    "import numpy as np\n",
    "data=np.loadtxt('cars.csv',delimiter=',',skiprows=1,usecols=(4,5,6,1))\n",
    "data"
   ]
  },
  {
   "cell_type": "code",
   "execution_count": 12,
   "metadata": {},
   "outputs": [
    {
     "data": {
      "text/plain": [
       "array([[ 130.    ,    1.752 ,   12.    ,    1.    ],\n",
       "       [ 165.    ,    1.8465,   11.5   ,    1.    ],\n",
       "       [ 150.    ,    1.718 ,   11.    ,    1.    ],\n",
       "       ..., \n",
       "       [  84.    ,    1.1475,   11.6   ,    1.    ],\n",
       "       [  79.    ,    1.3125,   18.6   ,    1.    ],\n",
       "       [  82.    ,    1.36  ,   19.4   ,    1.    ]])"
      ]
     },
     "execution_count": 12,
     "metadata": {},
     "output_type": "execute_result"
    }
   ],
   "source": [
    "feature=data[:,0:3]\n",
    "ones=np.ones((len(data),1))\n",
    "Feature=np.hstack((feature,ones))\n",
    "Feature"
   ]
  },
  {
   "cell_type": "code",
   "execution_count": 13,
   "metadata": {
    "collapsed": true
   },
   "outputs": [],
   "source": [
    "label=data[:,-1:]"
   ]
  },
  {
   "cell_type": "code",
   "execution_count": 14,
   "metadata": {},
   "outputs": [
    {
     "data": {
      "text/plain": [
       "array([[ 1.],\n",
       "       [ 1.],\n",
       "       [ 1.],\n",
       "       [ 1.]])"
      ]
     },
     "execution_count": 14,
     "metadata": {},
     "output_type": "execute_result"
    }
   ],
   "source": [
    "Weight=np.ones((4,1))#m1,m2,m3,b\n",
    "Weight"
   ]
  },
  {
   "cell_type": "code",
   "execution_count": 21,
   "metadata": {},
   "outputs": [],
   "source": [
    "\n",
    "learningrate = 0.1\n",
    "\n",
    "#记录mse对m和b变化率的惯性\n",
    "m=np.zeros((4,1))\n",
    "#记录mse对m和b变化率的速度\n",
    "v=np.zeros((4,1))\n",
    "\n",
    "# 记录mse的变化过程\n",
    "msehistory = []\n",
    "\n",
    "def gradentdecent():#采用矩阵的方式梯度下降\n",
    "    global Weight,learningrate,m,v\n",
    "    #计算MSE\n",
    "    mse=np.sum(np.square(np.dot(Feature,Weight)-label))\n",
    "    msehistory.append(mse)\n",
    "    #计算的是m和b的梯度\n",
    "    slop=np.dot(Feature.T,(np.dot(Feature,Weight)-label))\n",
    "    #核心逻辑，Adam    \n",
    "    beta_1=0.9\n",
    "    beta_2=0.999\n",
    "    \n",
    "    m=beta_1*m+(1-beta_1)*slop\n",
    "    v=beta_2*v+(1-beta_2)*(slop**2)\n",
    "    \n",
    "    m_p=m/(1-beta_1)\n",
    "    v_p=v/(1-beta_2)\n",
    "    \n",
    "    Weight=Weight-learningrate*m_p/np.sqrt(v_p+0.000000001)\n",
    "    return slop\n",
    "    \n",
    "i = 0\n",
    "for i in range(10000000):\n",
    "    slop=gradentdecent()\n",
    "    #print(slop[0][0],slop[1][0],slop[2][0],slop[3][0])\n",
    "    if np.sum(np.square(slop))<0.5:\n",
    "        break"
   ]
  },
  {
   "cell_type": "code",
   "execution_count": 22,
   "metadata": {},
   "outputs": [
    {
     "data": {
      "text/plain": [
       "array([[-0.14773255],\n",
       "       [-0.00205862],\n",
       "       [-0.01983076],\n",
       "       [-0.00130713]])"
      ]
     },
     "execution_count": 22,
     "metadata": {},
     "output_type": "execute_result"
    }
   ],
   "source": [
    "slop"
   ]
  },
  {
   "cell_type": "code",
   "execution_count": 23,
   "metadata": {},
   "outputs": [
    {
     "data": {
      "text/plain": [
       "17.3627480284031"
      ]
     },
     "execution_count": 23,
     "metadata": {},
     "output_type": "execute_result"
    }
   ],
   "source": [
    "#85\t1.2935\t16 #21\n",
    "85*Weight[0][0]+1.2935*Weight[1][0]+16*Weight[2][0]+Weight[3][0]"
   ]
  },
  {
   "cell_type": "code",
   "execution_count": 24,
   "metadata": {},
   "outputs": [
    {
     "data": {
      "text/plain": [
       "array([[ 212.70522108]])"
      ]
     },
     "execution_count": 24,
     "metadata": {},
     "output_type": "execute_result"
    }
   ],
   "source": [
    "from sklearn.linear_model import LinearRegression\n",
    "\n",
    "model = LinearRegression()\n",
    "\n",
    "feature = np.array([80,95,104,112,125,135])\n",
    "label = np.array([200,230,245,274,259,262])\n",
    "\n",
    "model.fit(feature.reshape(-1,1),label.reshape(-1,1))\n",
    "\n",
    "model.coef_   #斜率\n",
    "\n",
    "model.intercept_ #截距\n",
    "\n",
    "model.predict([[80]])  #预测"
   ]
  },
  {
   "cell_type": "code",
   "execution_count": null,
   "metadata": {
    "collapsed": true
   },
   "outputs": [],
   "source": []
  }
 ],
 "metadata": {
  "kernelspec": {
   "display_name": "Python 3",
   "language": "python",
   "name": "python3"
  },
  "language_info": {
   "codemirror_mode": {
    "name": "ipython",
    "version": 3
   },
   "file_extension": ".py",
   "mimetype": "text/x-python",
   "name": "python",
   "nbconvert_exporter": "python",
   "pygments_lexer": "ipython3",
   "version": "3.6.1"
  }
 },
 "nbformat": 4,
 "nbformat_minor": 2
}
