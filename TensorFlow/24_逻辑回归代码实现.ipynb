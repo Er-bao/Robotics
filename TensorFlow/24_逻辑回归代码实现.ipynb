{
 "cells": [
  {
   "cell_type": "code",
   "execution_count": 1,
   "metadata": {
    "collapsed": true
   },
   "outputs": [],
   "source": [
    "import numpy as np\n",
    "data=np.array([\n",
    "    [5,0],\n",
    "    [15,0],\n",
    "    [25,1],\n",
    "    [35,1],\n",
    "    [45,1],\n",
    "    [55,1],\n",
    "])"
   ]
  },
  {
   "cell_type": "code",
   "execution_count": 2,
   "metadata": {
    "collapsed": true
   },
   "outputs": [],
   "source": [
    "def sigmoid(z):\n",
    "    return 1/(1+np.exp(-z))"
   ]
  },
  {
   "cell_type": "code",
   "execution_count": 3,
   "metadata": {},
   "outputs": [
    {
     "data": {
      "text/plain": [
       "array([[  5.,   1.],\n",
       "       [ 15.,   1.],\n",
       "       [ 25.,   1.],\n",
       "       [ 35.,   1.],\n",
       "       [ 45.,   1.],\n",
       "       [ 55.,   1.]])"
      ]
     },
     "execution_count": 3,
     "metadata": {},
     "output_type": "execute_result"
    }
   ],
   "source": [
    "feature=data[:,0:1]\n",
    "label=data[:,-1:]\n",
    "Feature=np.hstack((feature,np.ones((len(data),1))))\n",
    "Feature"
   ]
  },
  {
   "cell_type": "code",
   "execution_count": 4,
   "metadata": {},
   "outputs": [
    {
     "data": {
      "text/plain": [
       "array([[ 1.],\n",
       "       [ 1.]])"
      ]
     },
     "execution_count": 4,
     "metadata": {},
     "output_type": "execute_result"
    }
   ],
   "source": [
    "Weight=np.ones((2,1))\n",
    "changeweight=np.ones((2,1))\n",
    "learningrate=0.01\n",
    "Weight"
   ]
  },
  {
   "cell_type": "code",
   "execution_count": 5,
   "metadata": {
    "collapsed": true
   },
   "outputs": [],
   "source": [
    "def grandentDecent():\n",
    "    global Weight,changeweight,learningrate\n",
    "    #mse crossentroyError\n",
    "    mse = np.sum(np.power((sigmoid(np.dot(Feature,Weight))-label),2))\n",
    "    msehistory.append(mse)\n",
    "    if len(msehistory)>=2:\n",
    "        if(msehistory[-1]>msehistory[-2]):\n",
    "            learningrate = learningrate /2\n",
    "        else :\n",
    "            learningrate = learningrate * 1.1\n",
    "    \n",
    "    slop=np.dot(Feature.T,(sigmoid(np.dot(Feature,Weight))-label))\n",
    "    ###关键代码\n",
    "    changeweight = changeweight + slop**2       \n",
    "    Weight = Weight - learningrate* slop/np.sqrt(changeweight)"
   ]
  },
  {
   "cell_type": "code",
   "execution_count": 6,
   "metadata": {},
   "outputs": [],
   "source": [
    "msehistory=[]\n",
    "mhistory=[]\n",
    "bhistory=[]\n",
    "for i in range(10000):\n",
    "    grandentDecent()\n",
    "    mhistory.append(Weight[0][0])\n",
    "    bhistory.append(Weight[1][0])"
   ]
  },
  {
   "cell_type": "code",
   "execution_count": 7,
   "metadata": {},
   "outputs": [
    {
     "data": {
      "text/plain": [
       "array([[  0.85847598],\n",
       "       [-16.93829089]])"
      ]
     },
     "execution_count": 7,
     "metadata": {},
     "output_type": "execute_result"
    }
   ],
   "source": [
    "Weight"
   ]
  },
  {
   "cell_type": "code",
   "execution_count": 8,
   "metadata": {},
   "outputs": [
    {
     "data": {
      "text/plain": [
       "array([[ 0.87524813]])"
      ]
     },
     "execution_count": 8,
     "metadata": {},
     "output_type": "execute_result"
    }
   ],
   "source": [
    "sigmoid(np.dot(np.array([[22,1]]),Weight))"
   ]
  },
  {
   "cell_type": "code",
   "execution_count": null,
   "metadata": {
    "collapsed": true
   },
   "outputs": [],
   "source": []
  }
 ],
 "metadata": {
  "kernelspec": {
   "display_name": "Python 3",
   "language": "python",
   "name": "python3"
  },
  "language_info": {
   "codemirror_mode": {
    "name": "ipython",
    "version": 3
   },
   "file_extension": ".py",
   "mimetype": "text/x-python",
   "name": "python",
   "nbconvert_exporter": "python",
   "pygments_lexer": "ipython3",
   "version": "3.6.1"
  }
 },
 "nbformat": 4,
 "nbformat_minor": 2
}
