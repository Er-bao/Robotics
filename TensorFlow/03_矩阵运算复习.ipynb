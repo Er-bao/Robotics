{
 "cells": [
  {
   "cell_type": "markdown",
   "metadata": {},
   "source": [
    "# 机器学习的几个关键步骤\n",
    "梯度下降算法实现 （一次梯度下降，更新一次m和b）  \n",
    "训练达到梯度最低点 （多次的更新m和b，直到达到最低点）  \n",
    "测试训练结果准确性 （用测试集的数据，来测试m和b预测的准确性）  \n",
    "进行新的预测 （来进行新的预测）  "
   ]
  },
  {
   "cell_type": "markdown",
   "metadata": {},
   "source": [
    "## numpy矩阵的乘法"
   ]
  },
  {
   "cell_type": "code",
   "execution_count": 12,
   "metadata": {
    "collapsed": true
   },
   "outputs": [],
   "source": [
    "import numpy as np\n",
    "data = np.array([\n",
    "    [80,200],\n",
    "    [95,230],\n",
    "    [104,245],\n",
    "    [112,247],\n",
    "    [125,259],\n",
    "     [135,262]\n",
    "])"
   ]
  },
  {
   "cell_type": "markdown",
   "metadata": {},
   "source": [
    "## 数组的拆分"
   ]
  },
  {
   "cell_type": "code",
   "execution_count": 13,
   "metadata": {},
   "outputs": [
    {
     "data": {
      "text/plain": [
       "array([[ 80],\n",
       "       [ 95],\n",
       "       [104],\n",
       "       [112],\n",
       "       [125],\n",
       "       [135]])"
      ]
     },
     "execution_count": 13,
     "metadata": {},
     "output_type": "execute_result"
    }
   ],
   "source": [
    "feature=data[:,0:1]\n",
    "feature"
   ]
  },
  {
   "cell_type": "code",
   "execution_count": 14,
   "metadata": {},
   "outputs": [
    {
     "data": {
      "text/plain": [
       "array([[200],\n",
       "       [230],\n",
       "       [245],\n",
       "       [247],\n",
       "       [259],\n",
       "       [262]])"
      ]
     },
     "execution_count": 14,
     "metadata": {},
     "output_type": "execute_result"
    }
   ],
   "source": [
    "label=data[:,1:2]\n",
    "label"
   ]
  },
  {
   "cell_type": "code",
   "execution_count": 16,
   "metadata": {},
   "outputs": [
    {
     "data": {
      "text/plain": [
       "array([[ 1.],\n",
       "       [ 1.],\n",
       "       [ 1.],\n",
       "       [ 1.],\n",
       "       [ 1.],\n",
       "       [ 1.]])"
      ]
     },
     "execution_count": 16,
     "metadata": {},
     "output_type": "execute_result"
    }
   ],
   "source": [
    "# 思考：怎么把初等数学的运算，改为矩阵乘法？两个矩阵如何相乘\n",
    "# y=mx+b\n",
    "np.ones((len(feature),1))"
   ]
  },
  {
   "cell_type": "code",
   "execution_count": 18,
   "metadata": {},
   "outputs": [
    {
     "data": {
      "text/plain": [
       "array([[  80.,    1.],\n",
       "       [  95.,    1.],\n",
       "       [ 104.,    1.],\n",
       "       [ 112.,    1.],\n",
       "       [ 125.,    1.],\n",
       "       [ 135.,    1.]])"
      ]
     },
     "execution_count": 18,
     "metadata": {},
     "output_type": "execute_result"
    }
   ],
   "source": [
    "# 矩阵的拼装\n",
    "Feature=np.hstack((feature,np.ones((len(feature),1))))\n",
    "Feature"
   ]
  },
  {
   "cell_type": "code",
   "execution_count": 20,
   "metadata": {},
   "outputs": [
    {
     "data": {
      "text/plain": [
       "array([[ 1.],\n",
       "       [ 1.]])"
      ]
     },
     "execution_count": 20,
     "metadata": {},
     "output_type": "execute_result"
    }
   ],
   "source": [
    "Weight=np.ones((2,1))\n",
    "Weight"
   ]
  },
  {
   "cell_type": "code",
   "execution_count": 21,
   "metadata": {},
   "outputs": [
    {
     "data": {
      "text/plain": [
       "array([[  81.],\n",
       "       [  96.],\n",
       "       [ 105.],\n",
       "       [ 113.],\n",
       "       [ 126.],\n",
       "       [ 136.]])"
      ]
     },
     "execution_count": 21,
     "metadata": {},
     "output_type": "execute_result"
    }
   ],
   "source": [
    "#矩阵相乘的结果就是面积的预测\n",
    "#y=mx+b\n",
    "#预测的房价\n",
    "np.dot(Feature,Weight)"
   ]
  },
  {
   "cell_type": "code",
   "execution_count": 22,
   "metadata": {},
   "outputs": [
    {
     "data": {
      "text/plain": [
       "array([[-119.],\n",
       "       [-134.],\n",
       "       [-140.],\n",
       "       [-134.],\n",
       "       [-133.],\n",
       "       [-126.]])"
      ]
     },
     "execution_count": 22,
     "metadata": {},
     "output_type": "execute_result"
    }
   ],
   "source": [
    "#预测的房价 - 真实的房价 得到差价\n",
    "np.dot(Feature,Weight)-label"
   ]
  },
  {
   "cell_type": "code",
   "execution_count": 23,
   "metadata": {},
   "outputs": [
    {
     "data": {
      "text/plain": [
       "103238.0"
      ]
     },
     "execution_count": 23,
     "metadata": {},
     "output_type": "execute_result"
    }
   ],
   "source": [
    "#mse最小均方差\n",
    "mse=np.sum(np.square(np.dot(Feature,Weight)-label))\n",
    "mse"
   ]
  },
  {
   "cell_type": "code",
   "execution_count": 26,
   "metadata": {},
   "outputs": [
    {
     "data": {
      "text/plain": [
       "array([[-85453.],\n",
       "       [  -786.]])"
      ]
     },
     "execution_count": 26,
     "metadata": {},
     "output_type": "execute_result"
    }
   ],
   "source": [
    "# mse对b的偏导数\n",
    "# mse对m的偏导数\n",
    "np.dot(Feature.T,(np.dot(Feature,Weight)-label))"
   ]
  },
  {
   "cell_type": "markdown",
   "metadata": {},
   "source": [
    "# 用矩阵运算的方式把初等数学的梯度下降重构"
   ]
  },
  {
   "cell_type": "markdown",
   "metadata": {},
   "source": [
    "# 初等数学的实现"
   ]
  },
  {
   "cell_type": "code",
   "execution_count": 31,
   "metadata": {},
   "outputs": [
    {
     "ename": "SyntaxError",
     "evalue": "invalid syntax (<ipython-input-31-cc529e66bb32>, line 31)",
     "output_type": "error",
     "traceback": [
      "\u001b[1;36m  File \u001b[1;32m\"<ipython-input-31-cc529e66bb32>\"\u001b[1;36m, line \u001b[1;32m31\u001b[0m\n\u001b[1;33m    %%time#看单元格执行时间\u001b[0m\n\u001b[1;37m    ^\u001b[0m\n\u001b[1;31mSyntaxError\u001b[0m\u001b[1;31m:\u001b[0m invalid syntax\n"
     ]
    }
   ],
   "source": [
    "import numpy as np\n",
    "data = np.array([\n",
    "    [80,200],\n",
    "    [95,230],\n",
    "    [104,245],\n",
    "    [112,247],\n",
    "    [125,259],\n",
    "     [135,262]\n",
    "])\n",
    "mhistory = []\n",
    "bhistory = []\n",
    "msehistory = []\n",
    "\n",
    "b = 1\n",
    "m = 1\n",
    "learningrate = 0.00002\n",
    "\n",
    "def gradentdecent():\n",
    "    global b ,m\n",
    "    bslop = 0\n",
    "    mslop = 0\n",
    "    mse = 0\n",
    "    for index ,item in enumerate(data[:,1]):\n",
    "        bslop = bslop + (b - item + data[:,0][index] * m)\n",
    "        mslop = mslop + (b - item + data[:,0][index] * m)*data[:,0][index]\n",
    "        mse = mse + (m*data[:,0][index] + b-item)**2\n",
    "    b = b -bslop*learningrate\n",
    "    m = m - mslop*learningrate\n",
    "    return mse\n",
    "\n",
    "#%%time#看单元格执行时间\n",
    "i = 0\n",
    "for i in range(2000000):\n",
    "    mse = gradentdecent()\n",
    "    i = i+1\n",
    "    if(i%100000 == 0):\n",
    "        print(\"b={},m={},mse={}\".format(b,m,mse))"
   ]
  },
  {
   "cell_type": "markdown",
   "metadata": {},
   "source": [
    "### 高等数学的方式重构代码"
   ]
  },
  {
   "cell_type": "code",
   "execution_count": 38,
   "metadata": {},
   "outputs": [
    {
     "data": {
      "text/plain": [
       "array([[ 1.],\n",
       "       [ 1.],\n",
       "       [ 1.],\n",
       "       [ 1.],\n",
       "       [ 1.],\n",
       "       [ 1.]])"
      ]
     },
     "execution_count": 38,
     "metadata": {},
     "output_type": "execute_result"
    }
   ],
   "source": [
    "import numpy as np\n",
    "data = np.array([\n",
    "    [80,200],\n",
    "    [95,230],\n",
    "    [104,245],\n",
    "    [112,247],\n",
    "    [125,259],\n",
    "     [135,262]\n",
    "])\n",
    "\n",
    "\n",
    "Weight=np.ones((2,1))#m,b，采用矩阵的方式指定权重\n",
    "ones=np.ones((len(data),1))\n",
    "Feature=np.hstack((data[:,0:1],ones))\n",
    "learningrate = 0.00001\n",
    "ones"
   ]
  },
  {
   "cell_type": "code",
   "execution_count": 33,
   "metadata": {},
   "outputs": [
    {
     "data": {
      "text/plain": [
       "array([[  80.,    1.],\n",
       "       [  95.,    1.],\n",
       "       [ 104.,    1.],\n",
       "       [ 112.,    1.],\n",
       "       [ 125.,    1.],\n",
       "       [ 135.,    1.]])"
      ]
     },
     "execution_count": 33,
     "metadata": {},
     "output_type": "execute_result"
    }
   ],
   "source": [
    "Feature"
   ]
  },
  {
   "cell_type": "code",
   "execution_count": 39,
   "metadata": {
    "collapsed": true
   },
   "outputs": [],
   "source": [
    "def gradentdecent2():#采用矩阵的方式梯度下降\n",
    "    global Weight\n",
    "    Weight=Weight-learningrate*np.dot(Feature.T,(np.dot(Feature,Weight)-label))\n",
    "    \n"
   ]
  },
  {
   "cell_type": "code",
   "execution_count": 40,
   "metadata": {},
   "outputs": [
    {
     "name": "stdout",
     "output_type": "stream",
     "text": [
      "b=[ 2.01021985],m=[ 19.54966858]\n",
      "b=[ 1.86937935],m=[ 35.26384083]\n",
      "b=[ 1.74999983],m=[ 48.58352059]\n",
      "b=[ 1.64881112],m=[ 59.87357558]\n",
      "b=[ 1.56304132],m=[ 69.44327576]\n",
      "b=[ 1.49034095],m=[ 77.55476517]\n",
      "b=[ 1.4287185],m=[ 84.43024289]\n",
      "b=[ 1.37648596],m=[ 90.25804979]\n",
      "b=[ 1.3322125],m=[ 95.19782774]\n",
      "b=[ 1.29468534],m=[ 99.38489273]\n",
      "Wall time: 5.3 s\n"
     ]
    }
   ],
   "source": [
    "%%time\n",
    "#看单元格执行时间\n",
    "i = 0\n",
    "for i in range(1000000):\n",
    "    gradentdecent2()\n",
    "    i = i+1\n",
    "    if(i%100000 == 0):\n",
    "        print(\"b={},m={}\".format(Weight[0],Weight[1]))"
   ]
  },
  {
   "cell_type": "code",
   "execution_count": null,
   "metadata": {
    "collapsed": true
   },
   "outputs": [],
   "source": []
  }
 ],
 "metadata": {
  "kernelspec": {
   "display_name": "Python 3",
   "language": "python",
   "name": "python3"
  },
  "language_info": {
   "codemirror_mode": {
    "name": "ipython",
    "version": 3
   },
   "file_extension": ".py",
   "mimetype": "text/x-python",
   "name": "python",
   "nbconvert_exporter": "python",
   "pygments_lexer": "ipython3",
   "version": "3.6.1"
  }
 },
 "nbformat": 4,
 "nbformat_minor": 2
}
